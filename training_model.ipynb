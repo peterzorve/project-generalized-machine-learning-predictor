{
 "cells": [
  {
   "attachments": {},
   "cell_type": "markdown",
   "metadata": {},
   "source": [
    "## Import Libraries"
   ]
  },
  {
   "cell_type": "code",
   "execution_count": 1,
   "metadata": {},
   "outputs": [],
   "source": [
    "import pandas as pd\n",
    "from sklearn.model_selection import train_test_split\n",
    "import numpy as np"
   ]
  },
  {
   "attachments": {},
   "cell_type": "markdown",
   "metadata": {},
   "source": [
    "## Process Data"
   ]
  },
  {
   "cell_type": "code",
   "execution_count": 2,
   "metadata": {},
   "outputs": [],
   "source": [
    "def process_data(path = 'data/diabetes_data.csv'):\n",
    "    data = pd.read_csv(path)\n",
    "\n",
    "    features = ['Pregnancies', 'Glucose', 'BloodPressure', 'SkinThickness', 'Insulin', 'BMI', 'DiabetesPedigreeFunction', 'Age']\n",
    "    target   = 'Outcome'\n",
    "\n",
    "    X = data[features]\n",
    "    y = data[target]\n",
    "\n",
    "    X_train, X_test, y_train, y_test = train_test_split(X, y, test_size=0.2)\n",
    "\n",
    "    return X_train, X_test, y_train, y_test"
   ]
  },
  {
   "attachments": {},
   "cell_type": "markdown",
   "metadata": {},
   "source": [
    "## Read the Data"
   ]
  },
  {
   "cell_type": "code",
   "execution_count": 3,
   "metadata": {},
   "outputs": [],
   "source": [
    "X_train, X_test, y_train, y_test = process_data(path = 'data/diabetes_data.csv')"
   ]
  },
  {
   "attachments": {},
   "cell_type": "markdown",
   "metadata": {},
   "source": [
    "## Import Models"
   ]
  },
  {
   "cell_type": "code",
   "execution_count": 4,
   "metadata": {},
   "outputs": [],
   "source": [
    "from sklearn.linear_model   import LogisticRegression \n",
    "from sklearn.tree           import DecisionTreeClassifier\n",
    "from sklearn.svm            import LinearSVC\n",
    "from sklearn.svm            import SVC \n",
    "from sklearn.ensemble       import RandomForestClassifier \n",
    "from sklearn.ensemble       import GradientBoostingClassifier"
   ]
  },
  {
   "attachments": {},
   "cell_type": "markdown",
   "metadata": {},
   "source": [
    "## Instantiate the Models"
   ]
  },
  {
   "cell_type": "code",
   "execution_count": 5,
   "metadata": {},
   "outputs": [],
   "source": [
    "model_lr   = LogisticRegression()\n",
    "model_dtc  = DecisionTreeClassifier()\n",
    "model_lsvc = LinearSVC()\n",
    "model_svc  = SVC()\n",
    "model_rfc  = RandomForestClassifier()\n",
    "model_gbc  = GradientBoostingClassifier()"
   ]
  },
  {
   "attachments": {},
   "cell_type": "markdown",
   "metadata": {},
   "source": [
    "## Train the Model"
   ]
  },
  {
   "cell_type": "code",
   "execution_count": null,
   "metadata": {},
   "outputs": [],
   "source": [
    "model_lr.fit(X_train, y_train)\n",
    "model_dtc.fit(X_train, y_train)\n",
    "model_lsvc.fit(X_train, y_train)\n",
    "model_svc.fit(X_train, y_train)\n",
    "model_rfc.fit(X_train, y_train)\n",
    "model_gbc.fit(X_train, y_train)"
   ]
  },
  {
   "attachments": {},
   "cell_type": "markdown",
   "metadata": {},
   "source": [
    "## Save the Models\n"
   ]
  },
  {
   "cell_type": "code",
   "execution_count": 7,
   "metadata": {},
   "outputs": [
    {
     "data": {
      "text/plain": [
       "['trained_models/trained_model_gbc.joblib']"
      ]
     },
     "execution_count": 7,
     "metadata": {},
     "output_type": "execute_result"
    }
   ],
   "source": [
    "import joblib \n",
    "\n",
    "filename_lr   = 'trained_models/trained_model_lr.joblib'\n",
    "filename_dtc  = 'trained_models/trained_model_dtc.joblib'\n",
    "filename_lsvc = 'trained_models/trained_model_lsvc.joblib'\n",
    "filename_svc  = 'trained_models/trained_model_svc.joblib'\n",
    "filename_rfc  = 'trained_models/trained_model_rfc.joblib'\n",
    "filename_gbc  = 'trained_models/trained_model_gbc.joblib'\n",
    "\n",
    "joblib.dump(model_lr,   filename = 'trained_models/trained_model_lr.joblib') \n",
    "joblib.dump(model_dtc,  filename = 'trained_models/trained_model_dtc.joblib') \n",
    "joblib.dump(model_lsvc, filename = 'trained_models/trained_model_lsvc.joblib') \n",
    "joblib.dump(model_svc,  filename = 'trained_models/trained_model_svc.joblib') \n",
    "joblib.dump(model_rfc,  filename = 'trained_models/trained_model_rfc.joblib') \n",
    "joblib.dump(model_gbc,  filename = 'trained_models/trained_model_gbc.joblib') "
   ]
  },
  {
   "attachments": {},
   "cell_type": "markdown",
   "metadata": {},
   "source": [
    "## Check the Accuracy of the Models "
   ]
  },
  {
   "cell_type": "code",
   "execution_count": 8,
   "metadata": {},
   "outputs": [
    {
     "name": "stdout",
     "output_type": "stream",
     "text": [
      "LogisticRegression          :   77.27 %\n",
      "DecisionTreeClassifier      :   66.88 %\n",
      "LinearSVC                   :   68.83 %\n",
      "SVC                         :   77.27 %\n",
      "RandomForestClassifier      :   72.73 %\n",
      "GradientBoostingClassifier  :   74.68 %\n"
     ]
    }
   ],
   "source": [
    "accuracy_lr   = model_lr.score(X_test, y_test)\n",
    "accuracy_dtc  = model_dtc.score(X_test, y_test)\n",
    "accuracy_lsvc = model_lsvc.score(X_test, y_test)\n",
    "accuracy_svc  = model_svc.score(X_test, y_test)\n",
    "accuracy_rfc  = model_rfc.score(X_test, y_test)\n",
    "accuracy_gbc  = model_gbc.score(X_test, y_test)\n",
    "\n",
    "print(f'LogisticRegression          :   {round(accuracy_lr   * 100, 2)} %')\n",
    "print(f'DecisionTreeClassifier      :   {round(accuracy_dtc  * 100, 2)} %')\n",
    "print(f'LinearSVC                   :   {round(accuracy_lsvc * 100, 2)} %')\n",
    "print(f'SVC                         :   {round(accuracy_svc  * 100, 2)} %')\n",
    "print(f'RandomForestClassifier      :   {round(accuracy_rfc  * 100, 2)} %')\n",
    "print(f'GradientBoostingClassifier  :   {round(accuracy_gbc  * 100, 2)} %')"
   ]
  },
  {
   "attachments": {},
   "cell_type": "markdown",
   "metadata": {},
   "source": [
    "## Load Trained Models"
   ]
  },
  {
   "cell_type": "code",
   "execution_count": 9,
   "metadata": {},
   "outputs": [],
   "source": [
    "model_lr   = joblib.load('trained_models/trained_model_lr.joblib')\n",
    "model_dtc  = joblib.load('trained_models/trained_model_dtc.joblib')\n",
    "model_lsvc = joblib.load('trained_models/trained_model_lsvc.joblib')\n",
    "model_svc  = joblib.load('trained_models/trained_model_svc.joblib')\n",
    "model_rfc  = joblib.load('trained_models/trained_model_rfc.joblib')\n",
    "model_gbc  = joblib.load('trained_models/trained_model_gbc.joblib')"
   ]
  },
  {
   "attachments": {},
   "cell_type": "markdown",
   "metadata": {},
   "source": [
    "## Create A Dummy Data"
   ]
  },
  {
   "cell_type": "code",
   "execution_count": 10,
   "metadata": {},
   "outputs": [
    {
     "name": "stdout",
     "output_type": "stream",
     "text": [
      "[[ 1.    85.    66.    29.     0.    26.6    0.351 31.   ]]\n",
      "[[  6.    148.     72.     35.      0.     33.6     0.627  50.   ]]\n"
     ]
    }
   ],
   "source": [
    "def new_data(x1, x2, x3, x4, x5, x6, x7, x8):\n",
    "    return np.array([[x1, x2, x3, x4, x5, x6, x7, x8]])\n",
    "\n",
    "data1 = new_data(1, 85, 66, 29, 0, 26.6, 0.351, 31)\n",
    "data2 = new_data(6,148,72,35,0,33.6,0.627,50)\n",
    "\n",
    "print(data1)\n",
    "print(data2)"
   ]
  },
  {
   "attachments": {},
   "cell_type": "markdown",
   "metadata": {},
   "source": [
    "## Make Prediction"
   ]
  },
  {
   "cell_type": "code",
   "execution_count": null,
   "metadata": {},
   "outputs": [],
   "source": [
    "predict_lr   = model_lr.predict(data1)\n",
    "predict_dtc  = model_dtc.predict(data1)\n",
    "predict_lsvc = model_lsvc.predict(data1)\n",
    "predict_svc  = model_svc.predict(data1)\n",
    "predict_rfc  = model_rfc.predict(data1)\n",
    "predict_gbc  = model_gbc.predict(data1)"
   ]
  },
  {
   "cell_type": "code",
   "execution_count": 12,
   "metadata": {},
   "outputs": [],
   "source": [
    "def result(pred):\n",
    "    if pred == 0:\n",
    "        return 'Negative'\n",
    "    if pred == 1:\n",
    "        return 'Positive'"
   ]
  },
  {
   "attachments": {},
   "cell_type": "markdown",
   "metadata": {},
   "source": [
    "## Print the Predicted Results"
   ]
  },
  {
   "cell_type": "code",
   "execution_count": 13,
   "metadata": {},
   "outputs": [
    {
     "name": "stdout",
     "output_type": "stream",
     "text": [
      "LogisticRegression          :   0 - Negative\n",
      "DecisionTreeClassifier      :   0 - Negative\n",
      "LinearSVC                   :   0 - Negative\n",
      "SVC                         :   0 - Negative\n",
      "RandomForestClassifier      :   0 - Negative\n",
      "GradientBoostingClassifier  :   0 - Negative\n"
     ]
    }
   ],
   "source": [
    "print(f'LogisticRegression          :   {predict_lr[0]} - {result(predict_lr[0])}')\n",
    "print(f'DecisionTreeClassifier      :   {predict_dtc[0]} - {result(predict_dtc[0])}')\n",
    "print(f'LinearSVC                   :   {predict_lsvc[0]} - {result(predict_lsvc[0])}')\n",
    "print(f'SVC                         :   {predict_svc[0]} - {result(predict_svc[0])}')\n",
    "print(f'RandomForestClassifier      :   {predict_rfc[0]} - {result(predict_rfc[0])}')\n",
    "print(f'GradientBoostingClassifier  :   {predict_gbc[0]} - {result(predict_gbc[0])}')"
   ]
  },
  {
   "cell_type": "code",
   "execution_count": null,
   "metadata": {},
   "outputs": [],
   "source": [
    "predict_lr   = model_lr.predict(data2)\n",
    "predict_dtc  = model_dtc.predict(data2)\n",
    "predict_lsvc = model_lsvc.predict(data2)\n",
    "predict_svc  = model_svc.predict(data2)\n",
    "predict_rfc  = model_rfc.predict(data2)\n",
    "predict_gbc  = model_gbc.predict(data2)"
   ]
  },
  {
   "cell_type": "code",
   "execution_count": 15,
   "metadata": {},
   "outputs": [
    {
     "name": "stdout",
     "output_type": "stream",
     "text": [
      "LogisticRegression          :   1 - Positive\n",
      "DecisionTreeClassifier      :   1 - Positive\n",
      "LinearSVC                   :   0 - Negative\n",
      "SVC                         :   1 - Positive\n",
      "RandomForestClassifier      :   1 - Positive\n",
      "GradientBoostingClassifier  :   1 - Positive\n"
     ]
    }
   ],
   "source": [
    "print(f'LogisticRegression          :   {predict_lr[0]} - {result(predict_lr[0])}')\n",
    "print(f'DecisionTreeClassifier      :   {predict_dtc[0]} - {result(predict_dtc[0])}')\n",
    "print(f'LinearSVC                   :   {predict_lsvc[0]} - {result(predict_lsvc[0])}')\n",
    "print(f'SVC                         :   {predict_svc[0]} - {result(predict_svc[0])}')\n",
    "print(f'RandomForestClassifier      :   {predict_rfc[0]} - {result(predict_rfc[0])}')\n",
    "print(f'GradientBoostingClassifier  :   {predict_gbc[0]} - {result(predict_gbc[0])}')"
   ]
  },
  {
   "cell_type": "code",
   "execution_count": 16,
   "metadata": {},
   "outputs": [],
   "source": [
    "def process_data(path = 'data/diabetes_data.csv', target='outcome'):\n",
    "\n",
    "    data = pd.read_csv(path)\n",
    "\n",
    "\n",
    "    features = ['Pregnancies', 'Glucose', 'BloodPressure', 'SkinThickness', 'Insulin', 'BMI', 'DiabetesPedigreeFunction', 'Age']\n",
    "    target   = 'Outcome'\n",
    "\n",
    "    X = data[features]\n",
    "    y = data[target]\n",
    "\n",
    "    X_train, X_test, y_train, y_test = train_test_split(X, y, test_size=0.2)\n",
    "\n",
    "    return X_train, X_test, y_train, y_test"
   ]
  },
  {
   "attachments": {},
   "cell_type": "markdown",
   "metadata": {},
   "source": [
    "## Generalized Preprocessing"
   ]
  },
  {
   "cell_type": "code",
   "execution_count": 17,
   "metadata": {},
   "outputs": [],
   "source": [
    "\n",
    "def general_preprocess(path, target):\n",
    "    data = pd.read_csv(path)\n",
    "    new_columns = []\n",
    "\n",
    "    for i in data.columns:\n",
    "        data[i.lower().strip()] = data[i]\n",
    "        new_columns.append(i.lower().strip())\n",
    "\n",
    "    new_data = data[new_columns]\n",
    "    new_data = new_data.drop_duplicates()\n",
    "    new_data = new_data.dropna()\n",
    "\n",
    "    target = target.lower().strip()\n",
    "\n",
    "    X = new_data.drop(target, axis=1)\n",
    "    y = new_data[target]\n",
    "\n",
    "    X_train, X_test, y_train, y_test = train_test_split(X, y, test_size=0.2)\n",
    "\n",
    "    return X_train, X_test, y_train, y_test\n",
    "\n",
    "X_train, X_test, y_train, y_test = general_preprocess('data/diabetes_data.csv', \"Outcome\")\n",
    "\n"
   ]
  },
  {
   "attachments": {},
   "cell_type": "markdown",
   "metadata": {},
   "source": [
    "## Instantiate, Train, and Saved Model"
   ]
  },
  {
   "cell_type": "code",
   "execution_count": null,
   "metadata": {},
   "outputs": [],
   "source": [
    "import joblib \n",
    "\n",
    "def train_and_save_model(X_train, X_test, y_train, y_test):\n",
    "    model_lr   = LogisticRegression()\n",
    "    model_dtc  = DecisionTreeClassifier()\n",
    "    model_lsvc = LinearSVC()\n",
    "    model_svc  = SVC()\n",
    "    model_rfc  = RandomForestClassifier()\n",
    "    model_gbc  = GradientBoostingClassifier()\n",
    "\n",
    "    model_lr.fit(X_train, y_train)\n",
    "    model_dtc.fit(X_train, y_train)\n",
    "    model_lsvc.fit(X_train, y_train)\n",
    "    model_svc.fit(X_train, y_train)\n",
    "    model_rfc.fit(X_train, y_train)\n",
    "    model_gbc.fit(X_train, y_train)\n",
    "\n",
    "    joblib.dump(model_lr,   filename = 'gen_trained_models/trained_lr.joblib') \n",
    "    joblib.dump(model_dtc,  filename = 'gen_trained_models/trained_dtc.joblib') \n",
    "    joblib.dump(model_lsvc, filename = 'gen_trained_models/trained_lsvc.joblib') \n",
    "    joblib.dump(model_svc,  filename = 'gen_trained_models/trained_svc.joblib') \n",
    "    joblib.dump(model_rfc,  filename = 'gen_trained_models/trained_rfc.joblib') \n",
    "    joblib.dump(model_gbc,  filename = 'gen_trained_models/trained_gbc.joblib') \n",
    "\n",
    "    return \n",
    "\n",
    "train_and_save_model(X_train, X_test, y_train, y_test)"
   ]
  },
  {
   "attachments": {},
   "cell_type": "markdown",
   "metadata": {},
   "source": [
    "## Check the Accuraces"
   ]
  },
  {
   "cell_type": "code",
   "execution_count": 19,
   "metadata": {},
   "outputs": [
    {
     "name": "stdout",
     "output_type": "stream",
     "text": [
      "LogisticRegression          :   83.12 %\n",
      "DecisionTreeClassifier      :   93.51 %\n",
      "LinearSVC                   :   74.03 %\n",
      "SVC                         :   80.52 %\n",
      "RandomForestClassifier      :   93.51 %\n",
      "GradientBoostingClassifier  :   90.91 %\n"
     ]
    },
    {
     "name": "stderr",
     "output_type": "stream",
     "text": [
      "c:\\Users\\zorve\\anaconda3\\envs\\deeplearning\\lib\\site-packages\\sklearn\\base.py:493: FutureWarning: The feature names should match those that were passed during fit. Starting version 1.2, an error will be raised.\n",
      "Feature names unseen at fit time:\n",
      "- age\n",
      "- bloodpressure\n",
      "- bmi\n",
      "- diabetespedigreefunction\n",
      "- glucose\n",
      "- ...\n",
      "Feature names seen at fit time, yet now missing:\n",
      "- Age\n",
      "- BMI\n",
      "- BloodPressure\n",
      "- DiabetesPedigreeFunction\n",
      "- Glucose\n",
      "- ...\n",
      "\n",
      "  warnings.warn(message, FutureWarning)\n",
      "c:\\Users\\zorve\\anaconda3\\envs\\deeplearning\\lib\\site-packages\\sklearn\\base.py:493: FutureWarning: The feature names should match those that were passed during fit. Starting version 1.2, an error will be raised.\n",
      "Feature names unseen at fit time:\n",
      "- age\n",
      "- bloodpressure\n",
      "- bmi\n",
      "- diabetespedigreefunction\n",
      "- glucose\n",
      "- ...\n",
      "Feature names seen at fit time, yet now missing:\n",
      "- Age\n",
      "- BMI\n",
      "- BloodPressure\n",
      "- DiabetesPedigreeFunction\n",
      "- Glucose\n",
      "- ...\n",
      "\n",
      "  warnings.warn(message, FutureWarning)\n",
      "c:\\Users\\zorve\\anaconda3\\envs\\deeplearning\\lib\\site-packages\\sklearn\\base.py:493: FutureWarning: The feature names should match those that were passed during fit. Starting version 1.2, an error will be raised.\n",
      "Feature names unseen at fit time:\n",
      "- age\n",
      "- bloodpressure\n",
      "- bmi\n",
      "- diabetespedigreefunction\n",
      "- glucose\n",
      "- ...\n",
      "Feature names seen at fit time, yet now missing:\n",
      "- Age\n",
      "- BMI\n",
      "- BloodPressure\n",
      "- DiabetesPedigreeFunction\n",
      "- Glucose\n",
      "- ...\n",
      "\n",
      "  warnings.warn(message, FutureWarning)\n",
      "c:\\Users\\zorve\\anaconda3\\envs\\deeplearning\\lib\\site-packages\\sklearn\\base.py:493: FutureWarning: The feature names should match those that were passed during fit. Starting version 1.2, an error will be raised.\n",
      "Feature names unseen at fit time:\n",
      "- age\n",
      "- bloodpressure\n",
      "- bmi\n",
      "- diabetespedigreefunction\n",
      "- glucose\n",
      "- ...\n",
      "Feature names seen at fit time, yet now missing:\n",
      "- Age\n",
      "- BMI\n",
      "- BloodPressure\n",
      "- DiabetesPedigreeFunction\n",
      "- Glucose\n",
      "- ...\n",
      "\n",
      "  warnings.warn(message, FutureWarning)\n",
      "c:\\Users\\zorve\\anaconda3\\envs\\deeplearning\\lib\\site-packages\\sklearn\\base.py:493: FutureWarning: The feature names should match those that were passed during fit. Starting version 1.2, an error will be raised.\n",
      "Feature names unseen at fit time:\n",
      "- age\n",
      "- bloodpressure\n",
      "- bmi\n",
      "- diabetespedigreefunction\n",
      "- glucose\n",
      "- ...\n",
      "Feature names seen at fit time, yet now missing:\n",
      "- Age\n",
      "- BMI\n",
      "- BloodPressure\n",
      "- DiabetesPedigreeFunction\n",
      "- Glucose\n",
      "- ...\n",
      "\n",
      "  warnings.warn(message, FutureWarning)\n",
      "c:\\Users\\zorve\\anaconda3\\envs\\deeplearning\\lib\\site-packages\\sklearn\\base.py:493: FutureWarning: The feature names should match those that were passed during fit. Starting version 1.2, an error will be raised.\n",
      "Feature names unseen at fit time:\n",
      "- age\n",
      "- bloodpressure\n",
      "- bmi\n",
      "- diabetespedigreefunction\n",
      "- glucose\n",
      "- ...\n",
      "Feature names seen at fit time, yet now missing:\n",
      "- Age\n",
      "- BMI\n",
      "- BloodPressure\n",
      "- DiabetesPedigreeFunction\n",
      "- Glucose\n",
      "- ...\n",
      "\n",
      "  warnings.warn(message, FutureWarning)\n"
     ]
    }
   ],
   "source": [
    "def check_accuracies(X_train, X_test, y_train, y_test):\n",
    "    accuracy_lr   = model_lr.score(X_test, y_test)\n",
    "    accuracy_dtc  = model_dtc.score(X_test, y_test)\n",
    "    accuracy_lsvc = model_lsvc.score(X_test, y_test)\n",
    "    accuracy_svc  = model_svc.score(X_test, y_test)\n",
    "    accuracy_rfc  = model_rfc.score(X_test, y_test)\n",
    "    accuracy_gbc  = model_gbc.score(X_test, y_test)\n",
    "\n",
    "    print(f'LogisticRegression          :   {round(accuracy_lr   * 100, 2)} %')\n",
    "    print(f'DecisionTreeClassifier      :   {round(accuracy_dtc  * 100, 2)} %')\n",
    "    print(f'LinearSVC                   :   {round(accuracy_lsvc * 100, 2)} %')\n",
    "    print(f'SVC                         :   {round(accuracy_svc  * 100, 2)} %')\n",
    "    print(f'RandomForestClassifier      :   {round(accuracy_rfc  * 100, 2)} %')\n",
    "    print(f'GradientBoostingClassifier  :   {round(accuracy_gbc  * 100, 2)} %')\n",
    "\n",
    "check_accuracies(X_train, X_test, y_train, y_test)"
   ]
  },
  {
   "attachments": {},
   "cell_type": "markdown",
   "metadata": {},
   "source": [
    "## Load Train Model"
   ]
  },
  {
   "cell_type": "code",
   "execution_count": 20,
   "metadata": {},
   "outputs": [
    {
     "data": {
      "text/plain": [
       "(LogisticRegression(),\n",
       " DecisionTreeClassifier(),\n",
       " LinearSVC(),\n",
       " SVC(),\n",
       " RandomForestClassifier(),\n",
       " GradientBoostingClassifier())"
      ]
     },
     "execution_count": 20,
     "metadata": {},
     "output_type": "execute_result"
    }
   ],
   "source": [
    "def load_models():\n",
    "    model_lr   = joblib.load('trained_models/trained_model_lr.joblib')\n",
    "    model_dtc  = joblib.load('trained_models/trained_model_dtc.joblib')\n",
    "    model_lsvc = joblib.load('trained_models/trained_model_lsvc.joblib')\n",
    "    model_svc  = joblib.load('trained_models/trained_model_svc.joblib')\n",
    "    model_rfc  = joblib.load('trained_models/trained_model_rfc.joblib')\n",
    "    model_gbc  = joblib.load('trained_models/trained_model_gbc.joblib')\n",
    "    return model_lr, model_dtc, model_lsvc, model_svc, model_rfc, model_gbc\n",
    "\n",
    "load_models()"
   ]
  },
  {
   "cell_type": "code",
   "execution_count": 21,
   "metadata": {},
   "outputs": [],
   "source": [
    "model_lr, model_dtc, model_lsvc, model_svc, model_rfc, model_gbc = load_models()"
   ]
  },
  {
   "cell_type": "code",
   "execution_count": 22,
   "metadata": {},
   "outputs": [
    {
     "name": "stdout",
     "output_type": "stream",
     "text": [
      "[LogisticRegression(), DecisionTreeClassifier(), LinearSVC(), SVC(), RandomForestClassifier(), GradientBoostingClassifier()]\n"
     ]
    }
   ],
   "source": [
    "loaded_models = [model_lr, model_dtc, model_lsvc, model_svc, model_rfc, model_gbc]\n",
    "print(loaded_models)\n"
   ]
  },
  {
   "attachments": {},
   "cell_type": "markdown",
   "metadata": {},
   "source": [
    "## Make Predictions"
   ]
  },
  {
   "cell_type": "code",
   "execution_count": 23,
   "metadata": {},
   "outputs": [],
   "source": [
    "def new_data(x1, x2, x3, x4, x5, x6, x7, x8):\n",
    "    return np.array([[x1, x2, x3, x4, x5, x6, x7, x8]])\n",
    "\n",
    "def result(pred):\n",
    "    if pred == 0:\n",
    "        return 'Negative'\n",
    "    if pred == 1:\n",
    "        return 'Positive'\n",
    "\n",
    "data1 = new_data(1, 85, 66, 29, 0, 26.6, 0.351, 31)\n",
    "data2 = new_data(6,148,72,35,0,33.6,0.627,50)\n",
    "\n"
   ]
  },
  {
   "cell_type": "code",
   "execution_count": 24,
   "metadata": {},
   "outputs": [
    {
     "name": "stdout",
     "output_type": "stream",
     "text": [
      " LogisticRegression             : 1   ==>   Positive\n",
      " DecisionTreeClassifier         : 1   ==>   Positive\n",
      " LinearSVC                      : 0   ==>   Negative\n",
      " SVC                            : 1   ==>   Positive\n",
      " RandomForestClassifier         : 1   ==>   Positive\n",
      " GradientBoostingClassifier     : 1   ==>   Positive\n"
     ]
    },
    {
     "name": "stderr",
     "output_type": "stream",
     "text": [
      "c:\\Users\\zorve\\anaconda3\\envs\\deeplearning\\lib\\site-packages\\sklearn\\base.py:450: UserWarning: X does not have valid feature names, but LogisticRegression was fitted with feature names\n",
      "  warnings.warn(\n",
      "c:\\Users\\zorve\\anaconda3\\envs\\deeplearning\\lib\\site-packages\\sklearn\\base.py:450: UserWarning: X does not have valid feature names, but LogisticRegression was fitted with feature names\n",
      "  warnings.warn(\n",
      "c:\\Users\\zorve\\anaconda3\\envs\\deeplearning\\lib\\site-packages\\sklearn\\base.py:450: UserWarning: X does not have valid feature names, but DecisionTreeClassifier was fitted with feature names\n",
      "  warnings.warn(\n",
      "c:\\Users\\zorve\\anaconda3\\envs\\deeplearning\\lib\\site-packages\\sklearn\\base.py:450: UserWarning: X does not have valid feature names, but DecisionTreeClassifier was fitted with feature names\n",
      "  warnings.warn(\n",
      "c:\\Users\\zorve\\anaconda3\\envs\\deeplearning\\lib\\site-packages\\sklearn\\base.py:450: UserWarning: X does not have valid feature names, but LinearSVC was fitted with feature names\n",
      "  warnings.warn(\n",
      "c:\\Users\\zorve\\anaconda3\\envs\\deeplearning\\lib\\site-packages\\sklearn\\base.py:450: UserWarning: X does not have valid feature names, but LinearSVC was fitted with feature names\n",
      "  warnings.warn(\n",
      "c:\\Users\\zorve\\anaconda3\\envs\\deeplearning\\lib\\site-packages\\sklearn\\base.py:450: UserWarning: X does not have valid feature names, but SVC was fitted with feature names\n",
      "  warnings.warn(\n",
      "c:\\Users\\zorve\\anaconda3\\envs\\deeplearning\\lib\\site-packages\\sklearn\\base.py:450: UserWarning: X does not have valid feature names, but SVC was fitted with feature names\n",
      "  warnings.warn(\n",
      "c:\\Users\\zorve\\anaconda3\\envs\\deeplearning\\lib\\site-packages\\sklearn\\base.py:450: UserWarning: X does not have valid feature names, but RandomForestClassifier was fitted with feature names\n",
      "  warnings.warn(\n",
      "c:\\Users\\zorve\\anaconda3\\envs\\deeplearning\\lib\\site-packages\\sklearn\\base.py:450: UserWarning: X does not have valid feature names, but RandomForestClassifier was fitted with feature names\n",
      "  warnings.warn(\n",
      "c:\\Users\\zorve\\anaconda3\\envs\\deeplearning\\lib\\site-packages\\sklearn\\base.py:450: UserWarning: X does not have valid feature names, but GradientBoostingClassifier was fitted with feature names\n",
      "  warnings.warn(\n",
      "c:\\Users\\zorve\\anaconda3\\envs\\deeplearning\\lib\\site-packages\\sklearn\\base.py:450: UserWarning: X does not have valid feature names, but GradientBoostingClassifier was fitted with feature names\n",
      "  warnings.warn(\n"
     ]
    }
   ],
   "source": [
    "\n",
    "for i in loaded_models:\n",
    "    print(f\" {str(i).replace('()', '') :30} : {i.predict(data2)[0]}   ==>   {result(i.predict(data2)[0])}\")"
   ]
  }
 ],
 "metadata": {
  "kernelspec": {
   "display_name": "deeplearning",
   "language": "python",
   "name": "python3"
  },
  "language_info": {
   "codemirror_mode": {
    "name": "ipython",
    "version": 3
   },
   "file_extension": ".py",
   "mimetype": "text/x-python",
   "name": "python",
   "nbconvert_exporter": "python",
   "pygments_lexer": "ipython3",
   "version": "3.8.13"
  },
  "orig_nbformat": 4
 },
 "nbformat": 4,
 "nbformat_minor": 2
}
