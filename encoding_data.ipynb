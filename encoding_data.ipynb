{
 "cells": [
  {
   "cell_type": "code",
   "execution_count": null,
   "metadata": {},
   "outputs": [],
   "source": []
  },
  {
   "cell_type": "code",
   "execution_count": 189,
   "metadata": {},
   "outputs": [],
   "source": [
    "import pandas as pd\n",
    "from sklearn.model_selection import train_test_split\n",
    "import numpy as np"
   ]
  },
  {
   "attachments": {},
   "cell_type": "markdown",
   "metadata": {},
   "source": []
  },
  {
   "cell_type": "code",
   "execution_count": 190,
   "metadata": {},
   "outputs": [],
   "source": [
    "path = \"data/diabetes_data.csv\"\n",
    "target = ''"
   ]
  },
  {
   "cell_type": "code",
   "execution_count": 191,
   "metadata": {},
   "outputs": [
    {
     "name": "stdout",
     "output_type": "stream",
     "text": [
      "(614, 8) (154, 8) (614,) (154,)\n",
      "['pregnancies', 'glucose', 'bloodpressure', 'skinthickness', 'insulin', 'bmi', 'diabetespedigreefunction', 'age']\n"
     ]
    }
   ],
   "source": [
    "\n",
    "def general_preprocess(path, target):\n",
    "    data = pd.read_csv(path)\n",
    "    new_columns = []\n",
    "\n",
    "    for i in data.columns:\n",
    "        data[i.lower().strip()] = data[i]\n",
    "        new_columns.append(i.lower().strip())\n",
    "\n",
    "    new_data = data[new_columns]\n",
    "    new_data = new_data.drop_duplicates()\n",
    "    new_data = new_data.dropna()\n",
    "\n",
    "    target = target.lower().strip()\n",
    "\n",
    "    X = new_data.drop(target, axis=1)\n",
    "    y = new_data[target]\n",
    "\n",
    "    feature_columns = X.columns\n",
    "\n",
    "    X_train, X_test, y_train, y_test = train_test_split(X, y, test_size=0.2)\n",
    "\n",
    "    return X_train, X_test, y_train, y_test, list(feature_columns)\n",
    "\n",
    "X_train, X_test, y_train, y_test, feature_columns = general_preprocess('data/diabetes_data.csv', \"Outcome\")\n",
    "\n",
    "\n",
    "print(X_train.shape, X_test.shape, y_train.shape, y_test.shape)\n",
    "print(list(feature_columns))\n"
   ]
  },
  {
   "cell_type": "code",
   "execution_count": 192,
   "metadata": {},
   "outputs": [],
   "source": [
    "# print(feature_columns)"
   ]
  },
  {
   "cell_type": "code",
   "execution_count": 193,
   "metadata": {},
   "outputs": [],
   "source": [
    "\n",
    "def clean_data_processing(path):\n",
    "    data = pd.read_csv(path)\n",
    "    new_columns = []\n",
    "\n",
    "    for i in data.columns:\n",
    "        data[i.lower().strip()] = data[i] \n",
    "        new_columns.append(i.lower().strip())\n",
    "\n",
    "    clean_data = data[new_columns]\n",
    "    clean_data = clean_data.drop_duplicates()\n",
    "    clean_data = clean_data.dropna()\n",
    "\n",
    "    return clean_data \n",
    "\n",
    "# data = clean_data('data/diabetes_data.csv')\n",
    "# data.head(2)\n",
    "\n"
   ]
  },
  {
   "cell_type": "code",
   "execution_count": 194,
   "metadata": {},
   "outputs": [
    {
     "name": "stdout",
     "output_type": "stream",
     "text": [
      "  Sex  Age address  salary\n",
      "0   M   10      qw      12\n",
      "1   F   12      er      15\n",
      "2   M   45      df      16\n",
      "3   F   14      wa      18\n"
     ]
    },
    {
     "data": {
      "text/html": [
       "<div>\n",
       "<style scoped>\n",
       "    .dataframe tbody tr th:only-of-type {\n",
       "        vertical-align: middle;\n",
       "    }\n",
       "\n",
       "    .dataframe tbody tr th {\n",
       "        vertical-align: top;\n",
       "    }\n",
       "\n",
       "    .dataframe thead th {\n",
       "        text-align: right;\n",
       "    }\n",
       "</style>\n",
       "<table border=\"1\" class=\"dataframe\">\n",
       "  <thead>\n",
       "    <tr style=\"text-align: right;\">\n",
       "      <th></th>\n",
       "      <th>sex</th>\n",
       "      <th>age</th>\n",
       "      <th>address</th>\n",
       "      <th>salary</th>\n",
       "    </tr>\n",
       "  </thead>\n",
       "  <tbody>\n",
       "    <tr>\n",
       "      <th>0</th>\n",
       "      <td>M</td>\n",
       "      <td>10</td>\n",
       "      <td>qw</td>\n",
       "      <td>12</td>\n",
       "    </tr>\n",
       "    <tr>\n",
       "      <th>1</th>\n",
       "      <td>F</td>\n",
       "      <td>12</td>\n",
       "      <td>er</td>\n",
       "      <td>15</td>\n",
       "    </tr>\n",
       "    <tr>\n",
       "      <th>2</th>\n",
       "      <td>M</td>\n",
       "      <td>45</td>\n",
       "      <td>df</td>\n",
       "      <td>16</td>\n",
       "    </tr>\n",
       "    <tr>\n",
       "      <th>3</th>\n",
       "      <td>F</td>\n",
       "      <td>14</td>\n",
       "      <td>wa</td>\n",
       "      <td>18</td>\n",
       "    </tr>\n",
       "  </tbody>\n",
       "</table>\n",
       "</div>"
      ],
      "text/plain": [
       "  sex  age address  salary\n",
       "0   M   10      qw      12\n",
       "1   F   12      er      15\n",
       "2   M   45      df      16\n",
       "3   F   14      wa      18"
      ]
     },
     "execution_count": 194,
     "metadata": {},
     "output_type": "execute_result"
    }
   ],
   "source": [
    "data = pd.read_csv('data/dummy_data.csv')\n",
    "print(data)\n",
    "data_clean = clean_data_processing('data/dummy_data.csv')\n",
    "data_clean"
   ]
  },
  {
   "cell_type": "code",
   "execution_count": 195,
   "metadata": {},
   "outputs": [
    {
     "name": "stdout",
     "output_type": "stream",
     "text": [
      "{'sex': ['M', 'F'], 'address': ['qw', 'er', 'df', 'wa']}\n",
      "{'sex': {'M': 0, 'F': 1}, 'address': {'qw': 0, 'er': 1, 'df': 2, 'wa': 3}}\n"
     ]
    }
   ],
   "source": [
    "data_clean = clean_data_processing('data/dummy_data.csv')\n",
    "\n",
    "def features_columns(data, target):\n",
    "    target = target.lower().strip() \n",
    "    feature_columns = data.drop(target, axis=1).columns \n",
    "    return list(feature_columns)\n",
    "\n",
    "feature_columns = features_columns(data=data_clean, target='Salary')\n",
    "\n",
    "feature_columns\n",
    "\n",
    "def json_dictionary(feature_columns, data):\n",
    "    data_dictionary = {}\n",
    "\n",
    "    for i in feature_columns:\n",
    "        if type(data[i][0]) == str:\n",
    "            data_dictionary[i] = list((data[i].unique()))\n",
    "\n",
    "    encode_dictionary = {}\n",
    "    for key, value in data_dictionary.items():\n",
    "        value_dictionary = {}\n",
    "        for idx, i in enumerate(value): \n",
    "            value_dictionary[i] = idx\n",
    "        encode_dictionary[key] = value_dictionary\n",
    "\n",
    "    return data_dictionary, encode_dictionary\n",
    "\n",
    "json_data, encoded_json_data = json_dictionary(feature_columns, data_clean)\n",
    "\n",
    "import json \n",
    "json_object = json.dumps(encoded_json_data)\n",
    "\n",
    "# print(clean_data.)\n",
    "\n",
    "print(json_data) \n",
    "print(encoded_json_data)"
   ]
  },
  {
   "cell_type": "code",
   "execution_count": 196,
   "metadata": {},
   "outputs": [],
   "source": [
    "import json\n",
    "\n",
    "json_ = json.dumps(encoded_json_data)\n",
    "\n",
    "filename = open(\"encoded_json.json\",\"w\")\n",
    "filename.write(json_)\n",
    "filename.close()"
   ]
  },
  {
   "cell_type": "code",
   "execution_count": 197,
   "metadata": {},
   "outputs": [
    {
     "name": "stdout",
     "output_type": "stream",
     "text": [
      "{'sex': {'M': 0, 'F': 1}, 'address': {'qw': 0, 'er': 1, 'df': 2, 'wa': 3}}\n"
     ]
    }
   ],
   "source": [
    "# import json\n",
    "\n",
    "filename = open('encoded_json.json')\n",
    "json_data = json.load(filename)\n",
    "filename.close()\n",
    "\n",
    "print(json_data)"
   ]
  },
  {
   "cell_type": "code",
   "execution_count": 198,
   "metadata": {},
   "outputs": [
    {
     "name": "stdout",
     "output_type": "stream",
     "text": [
      "0\n"
     ]
    }
   ],
   "source": [
    "# json_data['sex']['M']\n",
    "print(json_data['sex']['M'])"
   ]
  },
  {
   "cell_type": "code",
   "execution_count": 199,
   "metadata": {},
   "outputs": [
    {
     "data": {
      "text/html": [
       "<div>\n",
       "<style scoped>\n",
       "    .dataframe tbody tr th:only-of-type {\n",
       "        vertical-align: middle;\n",
       "    }\n",
       "\n",
       "    .dataframe tbody tr th {\n",
       "        vertical-align: top;\n",
       "    }\n",
       "\n",
       "    .dataframe thead th {\n",
       "        text-align: right;\n",
       "    }\n",
       "</style>\n",
       "<table border=\"1\" class=\"dataframe\">\n",
       "  <thead>\n",
       "    <tr style=\"text-align: right;\">\n",
       "      <th></th>\n",
       "      <th>sex</th>\n",
       "      <th>age</th>\n",
       "      <th>address</th>\n",
       "      <th>salary</th>\n",
       "    </tr>\n",
       "  </thead>\n",
       "  <tbody>\n",
       "    <tr>\n",
       "      <th>0</th>\n",
       "      <td>M</td>\n",
       "      <td>10</td>\n",
       "      <td>qw</td>\n",
       "      <td>12</td>\n",
       "    </tr>\n",
       "    <tr>\n",
       "      <th>1</th>\n",
       "      <td>F</td>\n",
       "      <td>12</td>\n",
       "      <td>er</td>\n",
       "      <td>15</td>\n",
       "    </tr>\n",
       "    <tr>\n",
       "      <th>2</th>\n",
       "      <td>M</td>\n",
       "      <td>45</td>\n",
       "      <td>df</td>\n",
       "      <td>16</td>\n",
       "    </tr>\n",
       "    <tr>\n",
       "      <th>3</th>\n",
       "      <td>F</td>\n",
       "      <td>14</td>\n",
       "      <td>wa</td>\n",
       "      <td>18</td>\n",
       "    </tr>\n",
       "  </tbody>\n",
       "</table>\n",
       "</div>"
      ],
      "text/plain": [
       "  sex  age address  salary\n",
       "0   M   10      qw      12\n",
       "1   F   12      er      15\n",
       "2   M   45      df      16\n",
       "3   F   14      wa      18"
      ]
     },
     "execution_count": 199,
     "metadata": {},
     "output_type": "execute_result"
    }
   ],
   "source": [
    "data_clean"
   ]
  },
  {
   "cell_type": "code",
   "execution_count": 200,
   "metadata": {},
   "outputs": [
    {
     "data": {
      "text/plain": [
       "['sex', 'age', 'address']"
      ]
     },
     "execution_count": 200,
     "metadata": {},
     "output_type": "execute_result"
    }
   ],
   "source": [
    "feature_columns"
   ]
  },
  {
   "cell_type": "code",
   "execution_count": 201,
   "metadata": {},
   "outputs": [
    {
     "data": {
      "text/html": [
       "<div>\n",
       "<style scoped>\n",
       "    .dataframe tbody tr th:only-of-type {\n",
       "        vertical-align: middle;\n",
       "    }\n",
       "\n",
       "    .dataframe tbody tr th {\n",
       "        vertical-align: top;\n",
       "    }\n",
       "\n",
       "    .dataframe thead th {\n",
       "        text-align: right;\n",
       "    }\n",
       "</style>\n",
       "<table border=\"1\" class=\"dataframe\">\n",
       "  <thead>\n",
       "    <tr style=\"text-align: right;\">\n",
       "      <th></th>\n",
       "      <th>sex</th>\n",
       "      <th>age</th>\n",
       "      <th>address</th>\n",
       "      <th>salary</th>\n",
       "    </tr>\n",
       "  </thead>\n",
       "  <tbody>\n",
       "    <tr>\n",
       "      <th>0</th>\n",
       "      <td>M</td>\n",
       "      <td>10</td>\n",
       "      <td>qw</td>\n",
       "      <td>12</td>\n",
       "    </tr>\n",
       "    <tr>\n",
       "      <th>1</th>\n",
       "      <td>F</td>\n",
       "      <td>12</td>\n",
       "      <td>er</td>\n",
       "      <td>15</td>\n",
       "    </tr>\n",
       "    <tr>\n",
       "      <th>2</th>\n",
       "      <td>M</td>\n",
       "      <td>45</td>\n",
       "      <td>df</td>\n",
       "      <td>16</td>\n",
       "    </tr>\n",
       "    <tr>\n",
       "      <th>3</th>\n",
       "      <td>F</td>\n",
       "      <td>14</td>\n",
       "      <td>wa</td>\n",
       "      <td>18</td>\n",
       "    </tr>\n",
       "  </tbody>\n",
       "</table>\n",
       "</div>"
      ],
      "text/plain": [
       "  sex  age address  salary\n",
       "0   M   10      qw      12\n",
       "1   F   12      er      15\n",
       "2   M   45      df      16\n",
       "3   F   14      wa      18"
      ]
     },
     "execution_count": 201,
     "metadata": {},
     "output_type": "execute_result"
    }
   ],
   "source": [
    "data_clean"
   ]
  },
  {
   "cell_type": "code",
   "execution_count": 202,
   "metadata": {},
   "outputs": [
    {
     "data": {
      "text/html": [
       "<div>\n",
       "<style scoped>\n",
       "    .dataframe tbody tr th:only-of-type {\n",
       "        vertical-align: middle;\n",
       "    }\n",
       "\n",
       "    .dataframe tbody tr th {\n",
       "        vertical-align: top;\n",
       "    }\n",
       "\n",
       "    .dataframe thead th {\n",
       "        text-align: right;\n",
       "    }\n",
       "</style>\n",
       "<table border=\"1\" class=\"dataframe\">\n",
       "  <thead>\n",
       "    <tr style=\"text-align: right;\">\n",
       "      <th></th>\n",
       "      <th>sex</th>\n",
       "      <th>age</th>\n",
       "      <th>address</th>\n",
       "      <th>salary</th>\n",
       "    </tr>\n",
       "  </thead>\n",
       "  <tbody>\n",
       "    <tr>\n",
       "      <th>0</th>\n",
       "      <td>0</td>\n",
       "      <td>10</td>\n",
       "      <td>0</td>\n",
       "      <td>12</td>\n",
       "    </tr>\n",
       "    <tr>\n",
       "      <th>1</th>\n",
       "      <td>1</td>\n",
       "      <td>12</td>\n",
       "      <td>1</td>\n",
       "      <td>15</td>\n",
       "    </tr>\n",
       "    <tr>\n",
       "      <th>2</th>\n",
       "      <td>0</td>\n",
       "      <td>45</td>\n",
       "      <td>2</td>\n",
       "      <td>16</td>\n",
       "    </tr>\n",
       "    <tr>\n",
       "      <th>3</th>\n",
       "      <td>1</td>\n",
       "      <td>14</td>\n",
       "      <td>3</td>\n",
       "      <td>18</td>\n",
       "    </tr>\n",
       "  </tbody>\n",
       "</table>\n",
       "</div>"
      ],
      "text/plain": [
       "   sex  age  address  salary\n",
       "0    0   10        0      12\n",
       "1    1   12        1      15\n",
       "2    0   45        2      16\n",
       "3    1   14        3      18"
      ]
     },
     "execution_count": 202,
     "metadata": {},
     "output_type": "execute_result"
    }
   ],
   "source": [
    "# columns_for_training = []\n",
    "for i in feature_columns:\n",
    "    # columns_for_training.append(i + '_new')\n",
    "    if type(data_clean[i][0]) == str:\n",
    "        # data_clean[i + '_new'] =  data_clean[i].apply(lambda x : json_data[i][x])  \n",
    "        data_clean[i] =  data_clean[i].apply(lambda x : json_data[i][x])\n",
    "    else:\n",
    "        # data_clean[i + '_new'] = data_clean[i]\n",
    "        data_clean[i] = data_clean[i]\n",
    "\n",
    "\n",
    "# data_for_training = data_clean[columns_for_training]\n",
    "\n",
    "\n",
    "data_clean \n",
    "# data_for_training "
   ]
  },
  {
   "cell_type": "code",
   "execution_count": 204,
   "metadata": {},
   "outputs": [
    {
     "name": "stdout",
     "output_type": "stream",
     "text": [
      "sex {'M': 0, 'F': 1}\n",
      "address {'qw': 0, 'er': 1, 'df': 2, 'wa': 3}\n"
     ]
    }
   ],
   "source": [
    "for item, value in json_data.items():\n",
    "    print(item, value)"
   ]
  },
  {
   "cell_type": "code",
   "execution_count": null,
   "metadata": {},
   "outputs": [],
   "source": []
  }
 ],
 "metadata": {
  "kernelspec": {
   "display_name": "deeplearning",
   "language": "python",
   "name": "python3"
  },
  "language_info": {
   "codemirror_mode": {
    "name": "ipython",
    "version": 3
   },
   "file_extension": ".py",
   "mimetype": "text/x-python",
   "name": "python",
   "nbconvert_exporter": "python",
   "pygments_lexer": "ipython3",
   "version": "3.8.13"
  },
  "orig_nbformat": 4
 },
 "nbformat": 4,
 "nbformat_minor": 2
}
